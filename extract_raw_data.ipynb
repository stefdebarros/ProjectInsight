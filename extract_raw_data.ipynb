{
 "cells": [
  {
   "cell_type": "markdown",
   "metadata": {},
   "source": [
    "# COVID19 severe (hospitalized) cases in Brazil\n",
    "\n",
    "\n",
    "## Aim and data\n",
    "\n",
    "Publicly available data for COVID19 cases hospitalized in Brazil is used to perform a retrospective cross-sectional observational study.\n",
    "It means that we want to infer the paramaters driving the outcome (death/survival) from data gathered from hospitals in Brazil for different COVID19 variants.\n",
    "\n",
    "> **Data source**: all the data has been taken from the Brazilian Ministry of Health https://opendatasus.saude.gov.br/organization/ministerio-da-saude\n",
    ">\n",
    ">It requires translation from Portuguese to English\n",
    "\n",
    "The code below shows how to extract the raw data"
   ]
  },
  {
   "cell_type": "markdown",
   "metadata": {},
   "source": [
    "## Python module used in this notebook"
   ]
  },
  {
   "cell_type": "code",
   "execution_count": 1,
   "metadata": {},
   "outputs": [],
   "source": [
    "import pandas as pd\n",
    "from urllib.error import HTTPError\n",
    "from urllib.error import URLError\n",
    "import os\n",
    "import datetime\n",
    "import multiprocessing as mp"
   ]
  },
  {
   "cell_type": "markdown",
   "metadata": {},
   "source": [
    "## Parameters"
   ]
  },
  {
   "cell_type": "code",
   "execution_count": 2,
   "metadata": {},
   "outputs": [],
   "source": [
    "######################## Initializing parameters ########################\n",
    "#URL where data can be found\n",
    "url_severe = \"https://s3.sa-east-1.amazonaws.com/ckan.saude.gov.br/SRAG/\"\n",
    "#prefix of the files to be downloaded\n",
    "severe_case_file_prefix_name = 'INFLUD'\n",
    "#List of years for which data must be searched\n",
    "stop_year = pd.to_datetime('today').year\n",
    "year_list = []\n",
    "for year in range(2020,stop_year+1,1):\n",
    "    year_list.append(year)\n",
    "#########################################################################"
   ]
  },
  {
   "cell_type": "markdown",
   "metadata": {},
   "source": [
    "## Function to download severe cases file for a given year\n",
    "\n",
    "The url where the data can be found depends on the date of last update: the function starts a loop on each day since today to find the working url"
   ]
  },
  {
   "cell_type": "code",
   "execution_count": 3,
   "metadata": {},
   "outputs": [],
   "source": [
    "################### Function to download severe cases ###################\n",
    "def download_severe_cases(year):\n",
    "    #flag to stop searching for url to download data for a given year\n",
    "    flag_url_exist = 0\n",
    "    #variable to increment for searching url associated to a year data\n",
    "    nb_days = 0\n",
    "    while(flag_url_exist == 0):\n",
    "        #Break URL search if data for a given year does not exist\n",
    "        if (pd.to_datetime('today')-pd.Timedelta(nb_days,\"D\")).year < year:\n",
    "            break\n",
    "        try:\n",
    "            #Check if URL exists\n",
    "            severe_case_data = pd.read_csv(url_severe+str(year)+'/'+severe_case_file_prefix_name+str(year)[-2:]+'-'+(pd.to_datetime('today')-pd.Timedelta(nb_days,\"D\")).strftime('%d-%m-%Y')+'.csv',sep=';')\n",
    "            print('Successfully downloaded data for '+str(year))\n",
    "            flag_url_exist = 1\n",
    "            severe_case_data.to_csv('severe_case_data_'+str(year)+'.csv',index=False)\n",
    "            del severe_case_data\n",
    "        except (HTTPError):\n",
    "            #URL does not exist: increment to search new URL\n",
    "            nb_days += 1\n",
    "        #About the two errors below: the connection may fail, so it continues until the data is downloaded \n",
    "        except (URLError):\n",
    "            print('URLError for '+str(year)+' data, trying again')\n",
    "        except (ConnectionResetError):\n",
    "            print('ConnectionResetError for '+str(year)+' data, trying again')\n",
    "#########################################################################"
   ]
  },
  {
   "cell_type": "markdown",
   "metadata": {},
   "source": [
    "## Distribute workload on available cores"
   ]
  },
  {
   "cell_type": "code",
   "execution_count": null,
   "metadata": {},
   "outputs": [
    {
     "name": "stdout",
     "output_type": "stream",
     "text": [
      "ConnectionResetError for 2020 data, trying again\n",
      "ConnectionResetError for 2021 data, trying again\n"
     ]
    },
    {
     "name": "stderr",
     "output_type": "stream",
     "text": [
      "/tmp/ipykernel_8324/3220494448.py:13: DtypeWarning: Columns (15,53,63,91,93,143) have mixed types. Specify dtype option on import or set low_memory=False.\n",
      "  severe_case_data = pd.read_csv(url_severe+str(year)+'/'+severe_case_file_prefix_name+str(year)[-2:]+'-'+(pd.to_datetime('today')-pd.Timedelta(nb_days,\"D\")).strftime('%d-%m-%Y')+'.csv',sep=';')\n"
     ]
    },
    {
     "name": "stdout",
     "output_type": "stream",
     "text": [
      "Successfully downloaded data for 2023\n",
      "ConnectionResetError for 2022 data, trying again\n",
      "ConnectionResetError for 2021 data, trying again\n",
      "URLError for 2020 data, trying again\n",
      "URLError for 2020 data, trying again\n"
     ]
    },
    {
     "name": "stderr",
     "output_type": "stream",
     "text": [
      "/tmp/ipykernel_8324/3220494448.py:13: DtypeWarning: Columns (15,59,61,62,63,91,93,105,114,116,117,118,122) have mixed types. Specify dtype option on import or set low_memory=False.\n",
      "  severe_case_data = pd.read_csv(url_severe+str(year)+'/'+severe_case_file_prefix_name+str(year)[-2:]+'-'+(pd.to_datetime('today')-pd.Timedelta(nb_days,\"D\")).strftime('%d-%m-%Y')+'.csv',sep=';')\n",
      "/tmp/ipykernel_8324/3220494448.py:13: DtypeWarning: Columns (15,53,59,61,62,63,91,93,120,122,143,171) have mixed types. Specify dtype option on import or set low_memory=False.\n",
      "  severe_case_data = pd.read_csv(url_severe+str(year)+'/'+severe_case_file_prefix_name+str(year)[-2:]+'-'+(pd.to_datetime('today')-pd.Timedelta(nb_days,\"D\")).strftime('%d-%m-%Y')+'.csv',sep=';')\n"
     ]
    },
    {
     "name": "stdout",
     "output_type": "stream",
     "text": [
      "Successfully downloaded data for 2020\n",
      "Successfully downloaded data for 2022\n"
     ]
    },
    {
     "name": "stderr",
     "output_type": "stream",
     "text": [
      "/tmp/ipykernel_8324/3220494448.py:13: DtypeWarning: Columns (15,59,61,62,63,91,93,105,107,114,116,117,118,122,143) have mixed types. Specify dtype option on import or set low_memory=False.\n",
      "  severe_case_data = pd.read_csv(url_severe+str(year)+'/'+severe_case_file_prefix_name+str(year)[-2:]+'-'+(pd.to_datetime('today')-pd.Timedelta(nb_days,\"D\")).strftime('%d-%m-%Y')+'.csv',sep=';')\n"
     ]
    },
    {
     "name": "stdout",
     "output_type": "stream",
     "text": [
      "Successfully downloaded data for 2021\n"
     ]
    }
   ],
   "source": [
    "########################## Distribute on proc ###########################\n",
    "if __name__ == '__main__':\n",
    "    ncores = mp.cpu_count()\n",
    "    # multiprocessing pool object\n",
    "    pool = mp.Pool(ncores)  \n",
    "    # input list\n",
    "    inputs = year_list\n",
    "    # map the function to the list and pass\n",
    "    # function and input list as arguments\n",
    "    pool.map(download_severe_cases,inputs)\n",
    "    pool.close()\n",
    "#########################################################################"
   ]
  },
  {
   "cell_type": "code",
   "execution_count": null,
   "metadata": {},
   "outputs": [],
   "source": []
  }
 ],
 "metadata": {
  "kernelspec": {
   "display_name": "Python 3 (ipykernel)",
   "language": "python",
   "name": "python3"
  },
  "language_info": {
   "codemirror_mode": {
    "name": "ipython",
    "version": 3
   },
   "file_extension": ".py",
   "mimetype": "text/x-python",
   "name": "python",
   "nbconvert_exporter": "python",
   "pygments_lexer": "ipython3",
   "version": "3.8.5"
  }
 },
 "nbformat": 4,
 "nbformat_minor": 4
}
