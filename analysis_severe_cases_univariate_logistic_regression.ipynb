{
 "cells": [
  {
   "cell_type": "markdown",
   "metadata": {},
   "source": [
    "# COVID19 severe (hospitalized) cases in Brazil\n",
    "\n",
    "# Univariate logistic regression\n",
    "\n",
    "Publicly available data for hospitalized cases in Brazil is used to perform a retrospective cross-sectional observational study.\n",
    "\n",
    "It means that we want to infer the paramaters driving the outcome from data gathered from hospitals.\n",
    "The data has been downloaded, selected and preprocessed before the steps described in this notebook.\n",
    "\n",
    "The aim is to compare different variants and infer what parameters are driving the severity and the outcome.<br>\n",
    "I proceed as follow:\n",
    "<ol>\n",
    "    <li> Compute some new features from the data (time between some dates, etc) and explore data</li>\n",
    "    <li> Perform univariate logistic regression</li>\n",
    "            <ol><li><strong>Perform regression (Presented in this notebook)</strong></li><li>Show results</li></ol>\n",
    "    <li> Based on the result of the univariate regression, move to a multivariate logistic regression with stepwise approach.</li>\n",
    "</ol>\n",
    "    \n",
    "| Features in the data | Features added | Primary Outcome (Label) | Secondary Outcome |\n",
    "|-|-|-|-|\n",
    "| age | age group | death/cured | ICU admission |\n",
    "| sex | nber of comorbidities | | ventilation (invasive/noninvasive) |\n",
    "| ethnicity | nber of vaccine doses received | | |\n",
    "| Federative unit (i.e., state) | delay between last dose of vaccine (if >=2) and 1st symptoms | | |\n",
    "| symptoms | length of hospital stay | | |\n",
    "| comorbidities | delay between 1st symptoms and hospitalization | | |\n",
    "| pregnancy status | | | |\n",
    "\n",
    "This is applied to four different periods of time when four different variants where dominant (>=80% of samples analyzed were corresponding to the variant of interest, source: GISAID database):\n",
    "- Delta\n",
    "- Omicron BA.1\n",
    "- Omicron BA.2\n",
    "- Omicron BA.4/BA.5\n",
    "\n",
    "> **Data source**: all the data has been taken from the Brazilian Ministry of Health https://opendatasus.saude.gov.br/organization/ministerio-da-saude\n",
    ">\n",
    ">It requires translation from Portuguese to English"
   ]
  },
  {
   "cell_type": "markdown",
   "metadata": {},
   "source": [
    "## Python module used in this notebook"
   ]
  },
  {
   "cell_type": "code",
   "execution_count": 1,
   "metadata": {},
   "outputs": [],
   "source": [
    "import pandas as pd\n",
    "import scipy.stats as scst\n",
    "import sys\n",
    "import numpy as np\n",
    "import matplotlib.pyplot as plt\n",
    "import os"
   ]
  },
  {
   "cell_type": "markdown",
   "metadata": {},
   "source": [
    "## Parameters definition: \n",
    "\n",
    "- variant period of time/names\n",
    "- age class\n",
    "- comorbidity list in English\n",
    "- ethnicity list in English"
   ]
  },
  {
   "cell_type": "code",
   "execution_count": 2,
   "metadata": {},
   "outputs": [],
   "source": [
    "variants_period = [['2021-09-12','2021-12-19'],['2022-01-03','2022-03-20'],['2022-04-11','2022-05-29'],\n",
    "                   ['2022-07-18','2022-10-02']]\n",
    "variants_name = ['Delta','BA.1.X','BA.2.X','BA.4/5.X']\n",
    "file_name = ['Delta','BA1X','BA2X','BA45X']\n",
    "#age_class = [[0,4],[5,9],[10,14],[15,19],[20,29],[30,39],[40,49],[50,59],[60,64],[65,69],[70,74],[75,79],[80]]\n",
    "age_range = [[0,4],[5,14],[15,24],[25,44],[45,54],[55,64],[65]]\n",
    "age_code = [0,1,2,3,4,5,6]\n",
    "gender = ['Female','Male']\n",
    "comorb_list = ['cardiovascular_disease','hematologic_disease','down_syndrom','liver_disease','asthma','diabetes',\n",
    "          'neurological_disease','chronic_lung_disease','weaken_immune_system','renal_disease','obesity','puerperal',\n",
    "               'other_comorbidities']\n",
    "race_list = ['Indigenous','Brown','Asian','Black','White','Unknown']"
   ]
  },
  {
   "cell_type": "markdown",
   "metadata": {},
   "source": [
    "## Univariate logistic regression\n",
    "\n",
    "- Load data"
   ]
  },
  {
   "cell_type": "code",
   "execution_count": 3,
   "metadata": {},
   "outputs": [],
   "source": [
    "df_encoded = pd.read_parquet('encoded_severe_cases_data.pq')\n",
    "df_analysis = pd.read_parquet('analysis_severe_cases_data.pq')\n",
    "df_analysis.outcome = df_analysis.outcome.replace('cured',0).replace('death',1)"
   ]
  },
  {
   "cell_type": "markdown",
   "metadata": {},
   "source": [
    "### Univariate logistic regression per variant: primary outcome\n",
    "\n",
    "- import modules"
   ]
  },
  {
   "cell_type": "code",
   "execution_count": 4,
   "metadata": {},
   "outputs": [],
   "source": [
    "import statsmodels.api as sm\n",
    "import statsmodels.formula.api as smf\n",
    "from numpy.linalg import LinAlgError"
   ]
  },
  {
   "cell_type": "markdown",
   "metadata": {},
   "source": [
    "- Regression results\n",
    "\n",
    "    - Splitting parameters between parameters with reference level (categorical) and parameters without reference (continuous)"
   ]
  },
  {
   "cell_type": "code",
   "execution_count": 5,
   "metadata": {},
   "outputs": [],
   "source": [
    "univariate_parameters_withref = ['state','age_group','sex','ethnicity','nb_comorbidities','nb_vaccine_dose','icuadm',\n",
    "                                 'ventilation','ventilation_outoficu','invasive_ventilation','delay_vaccine']\n",
    "univariate_parameters = ['length_stay','length_delay']"
   ]
  },
  {
   "cell_type": "markdown",
   "metadata": {},
   "source": [
    "- Define reference for each categorical parameter\n",
    "\n",
    "| Features | Reference |\n",
    "|-|-|\n",
    "| State | Distrito Federal (DF) |\n",
    "| Age group | Age group 3 (25-44 y) |\n",
    "| ethnicity | White |\n",
    "| Number of comorbidities | 0 |\n",
    "| Ventilation | No ventilation |\n",
    "| Ventilation out of ICU | No ventilation |\n",
    "| Invasive ventilation | In ICU |\n",
    "| ICU admission | No |\n",
    "| Delay between last vaccine dose and first symptom | <90 days |\n",
    "| Comorbidities | No comorbidity |"
   ]
  },
  {
   "cell_type": "code",
   "execution_count": 6,
   "metadata": {},
   "outputs": [],
   "source": [
    "df_analysis['state_releveled'] = pd.Series(pd.Categorical(df_analysis.state,categories=['DF','SP','CE','RS','PR','SC','MG',\n",
    "                                                                                        'GO','BA','RJ','MS','PA','PE','PB',\n",
    "                                                                                        'ES','PI','MT','TO','SE','AC','AL',\n",
    "                                                                                        'MA','RO','AP','RR','AM','RN']))\n",
    "df_analysis['age_group_releveled'] = pd.Series(pd.Categorical(df_analysis.age_group,categories=[3,0,1,2,4,5,6]))\n",
    "df_analysis['sex_releveled'] = pd.Series(pd.Categorical(df_analysis.sex,categories=['Female','Male']))\n",
    "df_analysis['ethnicity_releveled'] = pd.Series(pd.Categorical(df_analysis.ethnicity,categories=['white','asian','brown',\n",
    "                                                                                                'black','indigenous']))\n",
    "df_analysis['nb_comorbidities_releveled'] = pd.Series(pd.Categorical(df_analysis.nb_comorbidities,categories=[0,1,2,3,4]))\n",
    "df_analysis['nb_vaccine_dose_releveled']  = pd.Series(pd.Categorical(df_analysis.nb_vaccine_dose,categories=[0,1,2,3]))\n",
    "df_analysis['ventilation'] = np.where((df_analysis.ventilation_invasive==0) & (df_analysis.ventilation_noninvasive==0),'No',None)\n",
    "df_analysis.ventilation = np.where((df_analysis.ventilation_invasive==1) & (df_analysis.ventilation_noninvasive==0),'Invasive',df_analysis.ventilation)\n",
    "df_analysis.ventilation = np.where((df_analysis.ventilation_invasive==0) & (df_analysis.ventilation_noninvasive==1),'Noninvasive',df_analysis.ventilation)\n",
    "df_analysis['ventilation_releveled']  = pd.Series(pd.Categorical(df_analysis.ventilation,categories=['No','Invasive','Noninvasive']))\n",
    "df_analysis['ventilation_outoficu'] = np.where((df_analysis.ventilation_invasive==0) & (df_analysis.ventilation_noninvasive==0) & (df_analysis.icu_adm==0),'No',None)\n",
    "df_analysis.ventilation_outoficu = np.where((df_analysis.ventilation_invasive==1) & (df_analysis.ventilation_noninvasive==0) & (df_analysis.icu_adm==0),'Invasive',df_analysis.ventilation_outoficu)\n",
    "df_analysis.ventilation_outoficu = np.where((df_analysis.ventilation_invasive==0) & (df_analysis.ventilation_noninvasive==1) & (df_analysis.icu_adm==0),'Noninvasive',df_analysis.ventilation_outoficu)\n",
    "df_analysis['ventilation_outoficu_releveled']  = pd.Series(pd.Categorical(df_analysis.ventilation_outoficu,categories=['No','Invasive','Noninvasive']))\n",
    "df_analysis['invasive_ventilation'] = np.where((df_analysis.ventilation_invasive==1) & (df_analysis.icu_adm==1),'In ICU',None)\n",
    "df_analysis.invasive_ventilation = np.where((df_analysis.ventilation_invasive==1) & (df_analysis.icu_adm==0),'Out of ICU',df_analysis.invasive_ventilation)\n",
    "df_analysis['invasive_ventilation_releveled']  = pd.Series(pd.Categorical(df_analysis.invasive_ventilation,categories=['In ICU','Out of ICU']))\n",
    "df_analysis['icuadm'] = np.where(df_analysis.icu_adm==1,'Yes',None)\n",
    "df_analysis.icuadm = np.where(df_analysis.icu_adm==0,'No',df_analysis.icuadm)\n",
    "df_analysis['icuadm_releveled']  = pd.Series(pd.Categorical(df_analysis.icuadm,categories=['No','Yes']))\n",
    "df_analysis['delay_vaccine'] = np.where(df_analysis.delay_lastdose_onset<90,'<90',None)\n",
    "df_analysis.delay_vaccine = np.where(df_analysis.delay_lastdose_onset>=90,'>=90',df_analysis.delay_vaccine)\n",
    "df_analysis['delay_vaccine_releveled'] = pd.Series(pd.Categorical(df_analysis.delay_vaccine,categories=['<90','>=90']))"
   ]
  },
  {
   "cell_type": "markdown",
   "metadata": {},
   "source": [
    "- Loop on categorical parameters/variants"
   ]
  },
  {
   "cell_type": "code",
   "execution_count": 7,
   "metadata": {},
   "outputs": [
    {
     "name": "stdout",
     "output_type": "stream",
     "text": [
      "Delta : state  --  BA.1.X : state  --  BA.2.X : state  --  BA.4/5.X : state  --  Delta : age_group  --  BA.1.X : age_group  --  BA.2.X : age_group  --  BA.4/5.X : age_group  --  Delta : sex  --  BA.1.X : sex  --  BA.2.X : sex  --  BA.4/5.X : sex  --  Delta : ethnicity  --  BA.1.X : ethnicity  --  BA.2.X : ethnicity  --  BA.4/5.X : ethnicity  --  Delta : nb_comorbidities  --  BA.1.X : nb_comorbidities  --  BA.2.X : nb_comorbidities  --  BA.4/5.X : nb_comorbidities  --  Delta : nb_vaccine_dose  --  BA.1.X : nb_vaccine_dose  --  BA.2.X : nb_vaccine_dose  --  BA.4/5.X : nb_vaccine_dose  --  Delta : icuadm  --  BA.1.X : icuadm  --  BA.2.X : icuadm  --  BA.4/5.X : icuadm  --  Delta : ventilation  --  BA.1.X : ventilation  --  BA.2.X : ventilation  --  BA.4/5.X : ventilation  --  Delta : ventilation_outoficu  --  BA.1.X : ventilation_outoficu  --  BA.2.X : ventilation_outoficu  --  BA.4/5.X : ventilation_outoficu  --  Delta : invasive_ventilation  --  BA.1.X : invasive_ventilation  --  BA.2.X : invasive_ventilation  --  BA.4/5.X : invasive_ventilation  --  Delta : delay_vaccine  --  BA.1.X : delay_vaccine  --  BA.2.X : delay_vaccine  --  BA.4/5.X : delay_vaccine  --  "
     ]
    }
   ],
   "source": [
    "df_regression = pd.DataFrame()\n",
    "for param in univariate_parameters_withref:\n",
    "    output = pd.DataFrame()\n",
    "    for variant in df_analysis.variant.unique():\n",
    "        print(variant,':',param, end=\"  --  \")\n",
    "        variant_data = df_analysis[df_analysis.variant==variant].copy()\n",
    "        variant_data = variant_data.reset_index(drop=True)\n",
    "        reg = smf.logit('outcome ~ '+param+'_releveled',data=variant_data).fit(disp=0,method='ncg')\n",
    "        if variant == df_analysis.variant.unique()[0]:\n",
    "            output['param'] = reg.params.index[1:].str.replace('_releveled\\[T.',' ').str.replace('\\]','')\n",
    "        output['odds_ratio_'+variant] = np.exp(reg.params.values)[1:]\n",
    "        conf = np.exp(reg.conf_int())[1:]\n",
    "        conf.columns = ['CI_low','CI_high']\n",
    "        output['CI_low_'+variant] = conf.CI_low.values\n",
    "        output['CI_high_'+variant] = conf.CI_high.values\n",
    "        output['p_values_'+variant] = reg.pvalues.values[1:]\n",
    "    df_regression = df_regression.append(output,ignore_index=True)\n",
    "df_regression.to_csv('categorical_by_variant_reg.csv',index=False)"
   ]
  },
  {
   "cell_type": "markdown",
   "metadata": {},
   "source": [
    "- Loop on continuous parameters"
   ]
  },
  {
   "cell_type": "code",
   "execution_count": 8,
   "metadata": {},
   "outputs": [],
   "source": [
    "for param in univariate_parameters:\n",
    "    df_param_reg = pd.DataFrame()\n",
    "    for variant in df_encoded.columns[df_encoded.columns.str.contains('variant')]:\n",
    "        variant_data = df_encoded[df_encoded[variant]==1].copy()\n",
    "        for column in variant_data.columns[variant_data.columns.str.contains(param)].tolist():\n",
    "            if column == variant_data.columns[variant_data.columns.str.contains(param)][0]:\n",
    "                param_data = variant_data[variant_data[column].notnull()].copy()\n",
    "            else:\n",
    "                param_data = param_data[param_data[column].notnull()].copy()\n",
    "        X = param_data[param_data.columns[param_data.columns.str.contains(param)].tolist()]\n",
    "        Y = param_data[['outcome']]\n",
    "        fit_method = 'newton'\n",
    "        reg = sm.Logit(Y.astype(int),X.astype(int)).fit(disp=0,method=fit_method)\n",
    "        if variant == df_encoded.columns[df_encoded.columns.str.contains('variant')][0]:\n",
    "            df_param_reg['param_value'] = reg.params.index\n",
    "        df_param_reg['odds_ratio_'+variant] = np.exp(reg.params.values)\n",
    "        conf = np.exp(reg.conf_int())\n",
    "        conf.columns = ['CI_low','CI_high']\n",
    "        df_param_reg['CI_low_'+variant] = conf.CI_low.values\n",
    "        df_param_reg['CI_high_'+variant] = conf.CI_high.values\n",
    "        indx = df_param_reg.columns[df_param_reg.columns.str.contains(variant)].union(['param_value'])\n",
    "df_param_reg.to_csv('continuous_by_variant_reg.csv',index=False)"
   ]
  },
  {
   "cell_type": "markdown",
   "metadata": {},
   "source": [
    "#### comorbidities"
   ]
  },
  {
   "cell_type": "code",
   "execution_count": 9,
   "metadata": {},
   "outputs": [],
   "source": [
    "univariate_comorbidities = ['cardiovascular_disease','hematologic_disease','down_syndrom','liver_disease','asthma',\n",
    "                            'diabetes','neurological_disease','chronic_lung_disease','weaken_immune_system',\n",
    "                            'renal_disease','obesity','puerperal','other_comorbidities']"
   ]
  },
  {
   "cell_type": "code",
   "execution_count": 10,
   "metadata": {},
   "outputs": [
    {
     "name": "stdout",
     "output_type": "stream",
     "text": [
      "cardiovascular_disease - Delta  --  cardiovascular_disease - BA.1.X  --  cardiovascular_disease - BA.2.X  --  cardiovascular_disease - BA.4/5.X  --  hematologic_disease - Delta  --  hematologic_disease - BA.1.X  --  hematologic_disease - BA.2.X  --  hematologic_disease - BA.4/5.X  --  down_syndrom - Delta  --  down_syndrom - BA.1.X  --  down_syndrom - BA.2.X  --  down_syndrom - BA.4/5.X  --  liver_disease - Delta  --  liver_disease - BA.1.X  --  liver_disease - BA.2.X  --  liver_disease - BA.4/5.X  --  asthma - Delta  --  asthma - BA.1.X  --  asthma - BA.2.X  --  asthma - BA.4/5.X  --  diabetes - Delta  --  diabetes - BA.1.X  --  diabetes - BA.2.X  --  diabetes - BA.4/5.X  --  neurological_disease - Delta  --  neurological_disease - BA.1.X  --  neurological_disease - BA.2.X  --  neurological_disease - BA.4/5.X  --  chronic_lung_disease - Delta  --  chronic_lung_disease - BA.1.X  --  chronic_lung_disease - BA.2.X  --  chronic_lung_disease - BA.4/5.X  --  weaken_immune_system - Delta  --  weaken_immune_system - BA.1.X  --  weaken_immune_system - BA.2.X  --  weaken_immune_system - BA.4/5.X  --  renal_disease - Delta  --  renal_disease - BA.1.X  --  renal_disease - BA.2.X  --  renal_disease - BA.4/5.X  --  obesity - Delta  --  obesity - BA.1.X  --  obesity - BA.2.X  --  obesity - BA.4/5.X  --  puerperal - Delta  --  puerperal - BA.1.X  --  puerperal - BA.2.X  --  puerperal - BA.4/5.X  --  other_comorbidities - Delta  --  other_comorbidities - BA.1.X  --  other_comorbidities - BA.2.X  --  other_comorbidities - BA.4/5.X  --  "
     ]
    }
   ],
   "source": [
    "df_regression = pd.DataFrame()\n",
    "\n",
    "for param in univariate_comorbidities:\n",
    "    output = pd.DataFrame()\n",
    "    for variant in df_analysis.variant.unique():        \n",
    "        print(param+' - '+variant, end=\"  --  \")\n",
    "        variant_data = df_analysis[df_analysis.variant==variant].copy()\n",
    "        variant_data = variant_data.reset_index(drop=True)\n",
    "        variant_data['loc_comorb'] = np.where(variant_data[param]==1,param,None)\n",
    "        variant_data.loc_comorb = np.where(variant_data.nb_comorbidities==0,'No comorbidity',variant_data.loc_comorb)\n",
    "        variant_data['loc_comorb_releveled'] = pd.Series(pd.Categorical(variant_data.loc_comorb,categories=['No comorbidity',param]))\n",
    "        reg = smf.logit('outcome ~ loc_comorb_releveled',data=variant_data).fit(disp=0,method='ncg')\n",
    "        conf = np.exp(reg.conf_int().values)[1:]\n",
    "        if variant == df_analysis.variant.unique()[0]:\n",
    "            output['param'] = reg.params.index[1:].str.replace('loc_comorb_releveled\\[T.',' ').str.replace('\\]','')\n",
    "        output['odds_ratio_'+variant] = np.exp(reg.params.values)[1:]\n",
    "        conf = np.exp(reg.conf_int())[1:]\n",
    "        conf.columns = ['CI_low','CI_high']\n",
    "        output['CI_low_'+variant] = conf.CI_low.values\n",
    "        output['CI_high_'+variant] = conf.CI_high.values\n",
    "        output['p_values_'+variant] = reg.pvalues.values[1:]\n",
    "        del variant_data\n",
    "    df_regression = df_regression.append(output,ignore_index=True)\n",
    "df_regression.to_csv('comorbidities_by_variant_reg.csv',index=False)"
   ]
  },
  {
   "cell_type": "markdown",
   "metadata": {},
   "source": [
    "In the above cell, comorbidities impact is derived with each comorbity independently from any other comorbitity.\n",
    "\n",
    "To have a full picture, one categorical variable is created for each comorbidity and perform a new logistic regression adding all comorbidities in the model (basically, a multivariate analysis including all comorbidities)."
   ]
  },
  {
   "cell_type": "code",
   "execution_count": 11,
   "metadata": {},
   "outputs": [
    {
     "name": "stdout",
     "output_type": "stream",
     "text": [
      "cardiovascular_disease\n",
      "hematologic_disease\n",
      "down_syndrom\n",
      "liver_disease\n",
      "asthma\n",
      "diabetes\n",
      "neurological_disease\n",
      "chronic_lung_disease\n",
      "weaken_immune_system\n",
      "renal_disease\n",
      "obesity\n",
      "puerperal\n",
      "other_comorbidities\n"
     ]
    }
   ],
   "source": [
    "list_comorb_releveled = []\n",
    "for comorb in univariate_comorbidities:\n",
    "    print(comorb)\n",
    "    df_analysis[comorb+'_prereleveled'] = np.where(df_analysis[comorb]==0,'No',None)\n",
    "    df_analysis[comorb+'_prereleveled'] = np.where(df_analysis[comorb]==1,'Yes',df_analysis[comorb+'_prereleveled'])\n",
    "    df_analysis[comorb+'_releveled'] = pd.Series(pd.Categorical(df_analysis[comorb+'_prereleveled'],categories=['No','Yes']))\n",
    "    list_comorb_releveled.append(comorb+'_releveled')"
   ]
  },
  {
   "cell_type": "code",
   "execution_count": 12,
   "metadata": {},
   "outputs": [
    {
     "name": "stdout",
     "output_type": "stream",
     "text": [
      "Delta  --  BA.1.X  --  BA.2.X  --  BA.4/5.X  --  "
     ]
    }
   ],
   "source": [
    "df_regression = pd.DataFrame()\n",
    "for comorb in list_comorb_releveled:\n",
    "    if comorb == list_comorb_releveled[0]:\n",
    "        model = comorb\n",
    "    else:\n",
    "        model = model+' + '+comorb\n",
    "for variant in df_analysis.variant.unique():        \n",
    "    print(variant, end=\"  --  \")\n",
    "    variant_data = df_analysis[df_analysis.variant==variant].copy()\n",
    "    variant_data = variant_data.reset_index(drop=True)\n",
    "    reg = smf.logit('outcome ~ '+model,data=variant_data).fit(disp=0,method='ncg')\n",
    "    conf = np.exp(reg.conf_int().values)[1:]\n",
    "    if variant == df_analysis.variant.unique()[0]:\n",
    "        df_regression['param'] = reg.params.index[1:].str.replace('_releveled\\[T.Yes',' ').str.replace('\\]','')\n",
    "    df_regression['odds_ratio_'+variant] = np.exp(reg.params.values)[1:]\n",
    "    conf = np.exp(reg.conf_int())[1:]\n",
    "    conf.columns = ['CI_low','CI_high']\n",
    "    df_regression['CI_low_'+variant] = conf.CI_low.values\n",
    "    df_regression['CI_high_'+variant] = conf.CI_high.values\n",
    "    df_regression['p_values_'+variant] = reg.pvalues.values[1:]\n",
    "    del variant_data\n",
    "df_regression.to_csv('comorbidities_dependent_by_variant_reg.csv',index=False)"
   ]
  },
  {
   "cell_type": "markdown",
   "metadata": {},
   "source": [
    "### Univariate logistic regression per variant: secondary outcomes\n",
    "\n",
    "- ICU admission\n",
    "- Invasive ventilation"
   ]
  },
  {
   "cell_type": "code",
   "execution_count": 13,
   "metadata": {},
   "outputs": [],
   "source": [
    "outcomes = ['ventilation_invasive','icu_adm']\n",
    "outcome_delete_from_parameters = [['invasive_ventilation','ventilation','ventilation_outoficu'],['icuadm','ventilation_outoficu',\n",
    "                                                                                                 'invasive_ventilation']]\n",
    "univariate_parameters_withref = ['state','age_group','sex','ethnicity','nb_comorbidities','nb_vaccine_dose','icuadm',\n",
    "                                 'ventilation','ventilation_outoficu','invasive_ventilation','delay_vaccine']\n",
    "univariate_parameters = ['length_stay','length_delay']"
   ]
  },
  {
   "cell_type": "code",
   "execution_count": 14,
   "metadata": {},
   "outputs": [
    {
     "name": "stdout",
     "output_type": "stream",
     "text": [
      "Delta - ventilation_invasive : state  --  BA.1.X - ventilation_invasive : state  --  BA.2.X - ventilation_invasive : state  --  BA.4/5.X - ventilation_invasive : state  --  Delta - ventilation_invasive : age_group  --  BA.1.X - ventilation_invasive : age_group  --  BA.2.X - ventilation_invasive : age_group  --  BA.4/5.X - ventilation_invasive : age_group  --  Delta - ventilation_invasive : sex  --  BA.1.X - ventilation_invasive : sex  --  BA.2.X - ventilation_invasive : sex  --  BA.4/5.X - ventilation_invasive : sex  --  Delta - ventilation_invasive : ethnicity  --  BA.1.X - ventilation_invasive : ethnicity  --  BA.2.X - ventilation_invasive : ethnicity  --  BA.4/5.X - ventilation_invasive : ethnicity  --  Delta - ventilation_invasive : nb_comorbidities  --  BA.1.X - ventilation_invasive : nb_comorbidities  --  BA.2.X - ventilation_invasive : nb_comorbidities  --  BA.4/5.X - ventilation_invasive : nb_comorbidities  --  Delta - ventilation_invasive : nb_vaccine_dose  --  BA.1.X - ventilation_invasive : nb_vaccine_dose  --  BA.2.X - ventilation_invasive : nb_vaccine_dose  --  BA.4/5.X - ventilation_invasive : nb_vaccine_dose  --  Delta - ventilation_invasive : icuadm  --  BA.1.X - ventilation_invasive : icuadm  --  BA.2.X - ventilation_invasive : icuadm  --  BA.4/5.X - ventilation_invasive : icuadm  --  Delta - ventilation_invasive : delay_vaccine  --  BA.1.X - ventilation_invasive : delay_vaccine  --  BA.2.X - ventilation_invasive : delay_vaccine  --  BA.4/5.X - ventilation_invasive : delay_vaccine  --  Delta - icu_adm : state  --  BA.1.X - icu_adm : state  --  BA.2.X - icu_adm : state  --  BA.4/5.X - icu_adm : state  --  Delta - icu_adm : age_group  --  BA.1.X - icu_adm : age_group  --  BA.2.X - icu_adm : age_group  --  BA.4/5.X - icu_adm : age_group  --  Delta - icu_adm : sex  --  BA.1.X - icu_adm : sex  --  BA.2.X - icu_adm : sex  --  BA.4/5.X - icu_adm : sex  --  Delta - icu_adm : ethnicity  --  BA.1.X - icu_adm : ethnicity  --  BA.2.X - icu_adm : ethnicity  --  BA.4/5.X - icu_adm : ethnicity  --  Delta - icu_adm : nb_comorbidities  --  BA.1.X - icu_adm : nb_comorbidities  --  BA.2.X - icu_adm : nb_comorbidities  --  BA.4/5.X - icu_adm : nb_comorbidities  --  Delta - icu_adm : nb_vaccine_dose  --  BA.1.X - icu_adm : nb_vaccine_dose  --  BA.2.X - icu_adm : nb_vaccine_dose  --  BA.4/5.X - icu_adm : nb_vaccine_dose  --  Delta - icu_adm : ventilation  --  BA.1.X - icu_adm : ventilation  --  BA.2.X - icu_adm : ventilation  --  BA.4/5.X - icu_adm : ventilation  --  Delta - icu_adm : delay_vaccine  --  BA.1.X - icu_adm : delay_vaccine  --  BA.2.X - icu_adm : delay_vaccine  --  BA.4/5.X - icu_adm : delay_vaccine  --  "
     ]
    }
   ],
   "source": [
    "for outcome in outcomes:\n",
    "    df_regression = pd.DataFrame()\n",
    "    local_parameters = univariate_parameters_withref.copy()\n",
    "    if type(outcome_delete_from_parameters[outcomes.index(outcome)]) == list:\n",
    "        for element in outcome_delete_from_parameters[outcomes.index(outcome)]:\n",
    "            local_parameters.remove(element)\n",
    "    else:\n",
    "        local_parameters.remove(outcome_delete_from_parameters[outcomes.index(outcome)])\n",
    "    for param in local_parameters:\n",
    "        output = pd.DataFrame()\n",
    "        for variant in df_analysis.variant.unique():\n",
    "            print(variant,'-',outcome,':',param, end='  --  ')\n",
    "            variant_data = df_analysis[df_analysis.variant==variant].copy()\n",
    "            reg = smf.logit(outcome+' ~ '+param+'_releveled',data=variant_data).fit(disp=0,method='ncg')\n",
    "            if variant == df_analysis.variant.unique()[0]:\n",
    "                output['param'] = reg.params.index[1:].str.replace('_releveled\\[T.',' ').str.replace('\\]','')\n",
    "            output['odds_ratio_'+variant] = np.exp(reg.params.values)[1:]\n",
    "            conf = np.exp(reg.conf_int())[1:]\n",
    "            conf.columns = ['CI_low','CI_high']\n",
    "            output['CI_low_'+variant] = conf.CI_low.values\n",
    "            output['CI_high_'+variant] = conf.CI_high.values\n",
    "            output['p_values_'+variant] = reg.pvalues.values[1:]\n",
    "        df_regression = df_regression.append(output,ignore_index=True)\n",
    "    df_regression.to_csv(outcome+'_categorical_by_variant_reg.csv',index=False)"
   ]
  },
  {
   "cell_type": "markdown",
   "metadata": {},
   "source": [
    "- Loop on continuous parameters"
   ]
  },
  {
   "cell_type": "code",
   "execution_count": 15,
   "metadata": {},
   "outputs": [
    {
     "name": "stdout",
     "output_type": "stream",
     "text": [
      "ventilation_invasive - length_stay  --  ventilation_invasive - length_delay  --  icu_adm - length_stay  --  icu_adm - length_delay  --  "
     ]
    }
   ],
   "source": [
    "for outcome in outcomes:\n",
    "    local_parameters = univariate_parameters.copy()\n",
    "    for param in local_parameters:\n",
    "        print(outcome+' - '+param,end='  --  ')\n",
    "        df_param_reg = pd.DataFrame()\n",
    "        for variant in df_encoded.columns[df_encoded.columns.str.contains('variant')]:\n",
    "            variant_data = df_encoded[df_encoded[variant]==1].copy()\n",
    "            for column in variant_data.columns[variant_data.columns.str.contains(param)].tolist():\n",
    "                if column == variant_data.columns[variant_data.columns.str.contains(param)][0]:\n",
    "                    param_data = variant_data[variant_data[column].notnull()].copy()\n",
    "                else:\n",
    "                    param_data = param_data[param_data[column].notnull()].copy()\n",
    "            X = param_data[param_data.columns[param_data.columns.str.contains(param)].tolist()]\n",
    "            Y = param_data[['outcome']]\n",
    "            fit_method = 'newton'\n",
    "            reg = sm.Logit(Y.astype(int),X.astype(int)).fit(disp=0,method=fit_method)\n",
    "            if variant == df_encoded.columns[df_encoded.columns.str.contains('variant')][0]:\n",
    "                df_param_reg['param_value'] = reg.params.index\n",
    "            df_param_reg['odds_ratio_'+variant] = np.exp(reg.params.values)\n",
    "            conf = np.exp(reg.conf_int())\n",
    "            conf.columns = ['CI_low','CI_high']\n",
    "            df_param_reg['CI_low_'+variant] = conf.CI_low.values\n",
    "            df_param_reg['CI_high_'+variant] = conf.CI_high.values\n",
    "            indx = df_param_reg.columns[df_param_reg.columns.str.contains(variant)].union(['param_value'])\n",
    "    df_param_reg.to_csv(outcome+'_continuous_by_variant_reg.csv',index=False)"
   ]
  },
  {
   "cell_type": "markdown",
   "metadata": {},
   "source": [
    "#### comorbidities\n",
    "\n",
    "Same method is applied here as for primary outcome (death): first an univariate analysis and then a multivariate analysis"
   ]
  },
  {
   "cell_type": "code",
   "execution_count": 16,
   "metadata": {},
   "outputs": [],
   "source": [
    "univariate_comorbidities = ['cardiovascular_disease','hematologic_disease','down_syndrom','liver_disease','asthma',\n",
    "                            'diabetes','neurological_disease','chronic_lung_disease','weaken_immune_system',\n",
    "                            'renal_disease','obesity','puerperal','other_comorbidities']"
   ]
  },
  {
   "cell_type": "code",
   "execution_count": 17,
   "metadata": {},
   "outputs": [
    {
     "name": "stdout",
     "output_type": "stream",
     "text": [
      "cardiovascular_disease - Delta  --  cardiovascular_disease - BA.1.X  --  cardiovascular_disease - BA.2.X  --  cardiovascular_disease - BA.4/5.X  --  hematologic_disease - Delta  --  hematologic_disease - BA.1.X  --  hematologic_disease - BA.2.X  --  hematologic_disease - BA.4/5.X  --  down_syndrom - Delta  --  down_syndrom - BA.1.X  --  down_syndrom - BA.2.X  --  down_syndrom - BA.4/5.X  --  liver_disease - Delta  --  liver_disease - BA.1.X  --  liver_disease - BA.2.X  --  liver_disease - BA.4/5.X  --  asthma - Delta  --  asthma - BA.1.X  --  asthma - BA.2.X  --  asthma - BA.4/5.X  --  diabetes - Delta  --  diabetes - BA.1.X  --  diabetes - BA.2.X  --  diabetes - BA.4/5.X  --  neurological_disease - Delta  --  neurological_disease - BA.1.X  --  neurological_disease - BA.2.X  --  neurological_disease - BA.4/5.X  --  chronic_lung_disease - Delta  --  chronic_lung_disease - BA.1.X  --  chronic_lung_disease - BA.2.X  --  chronic_lung_disease - BA.4/5.X  --  weaken_immune_system - Delta  --  weaken_immune_system - BA.1.X  --  weaken_immune_system - BA.2.X  --  weaken_immune_system - BA.4/5.X  --  renal_disease - Delta  --  renal_disease - BA.1.X  --  renal_disease - BA.2.X  --  renal_disease - BA.4/5.X  --  obesity - Delta  --  obesity - BA.1.X  --  obesity - BA.2.X  --  obesity - BA.4/5.X  --  puerperal - Delta  --  puerperal - BA.1.X  --  puerperal - BA.2.X  --  puerperal - BA.4/5.X  --  other_comorbidities - Delta  --  other_comorbidities - BA.1.X  --  other_comorbidities - BA.2.X  --  other_comorbidities - BA.4/5.X  --  cardiovascular_disease - Delta  --  cardiovascular_disease - BA.1.X  --  cardiovascular_disease - BA.2.X  --  cardiovascular_disease - BA.4/5.X  --  hematologic_disease - Delta  --  hematologic_disease - BA.1.X  --  hematologic_disease - BA.2.X  --  hematologic_disease - BA.4/5.X  --  down_syndrom - Delta  --  down_syndrom - BA.1.X  --  down_syndrom - BA.2.X  --  down_syndrom - BA.4/5.X  --  liver_disease - Delta  --  liver_disease - BA.1.X  --  liver_disease - BA.2.X  --  liver_disease - BA.4/5.X  --  asthma - Delta  --  asthma - BA.1.X  --  asthma - BA.2.X  --  asthma - BA.4/5.X  --  diabetes - Delta  --  diabetes - BA.1.X  --  diabetes - BA.2.X  --  diabetes - BA.4/5.X  --  neurological_disease - Delta  --  neurological_disease - BA.1.X  --  neurological_disease - BA.2.X  --  neurological_disease - BA.4/5.X  --  chronic_lung_disease - Delta  --  chronic_lung_disease - BA.1.X  --  chronic_lung_disease - BA.2.X  --  chronic_lung_disease - BA.4/5.X  --  weaken_immune_system - Delta  --  weaken_immune_system - BA.1.X  --  weaken_immune_system - BA.2.X  --  weaken_immune_system - BA.4/5.X  --  renal_disease - Delta  --  renal_disease - BA.1.X  --  renal_disease - BA.2.X  --  renal_disease - BA.4/5.X  --  obesity - Delta  --  obesity - BA.1.X  --  obesity - BA.2.X  --  obesity - BA.4/5.X  --  puerperal - Delta  --  puerperal - BA.1.X  --  puerperal - BA.2.X  --  puerperal - BA.4/5.X  --  other_comorbidities - Delta  --  other_comorbidities - BA.1.X  --  other_comorbidities - BA.2.X  --  other_comorbidities - BA.4/5.X  --  "
     ]
    }
   ],
   "source": [
    "for outcome in outcomes:\n",
    "    df_regression = pd.DataFrame()\n",
    "    for param in univariate_comorbidities:\n",
    "        output = pd.DataFrame()\n",
    "        for variant in df_analysis.variant.unique():        \n",
    "            print(param+' - '+variant,end='  --  ')\n",
    "            variant_data = df_analysis[df_analysis.variant==variant].copy()\n",
    "            variant_data = variant_data.reset_index(drop=True)\n",
    "            variant_data['loc_comorb'] = np.where(variant_data[param]==1,param,None)\n",
    "            variant_data.loc_comorb = np.where(variant_data.nb_comorbidities==0,'No comorbidity',variant_data.loc_comorb)\n",
    "            variant_data['loc_comorb_releveled'] = pd.Series(pd.Categorical(variant_data.loc_comorb,categories=['No comorbidity',param]))\n",
    "            reg = smf.logit(outcome+' ~ loc_comorb_releveled',data=variant_data).fit(disp=0,method='ncg')\n",
    "            conf = np.exp(reg.conf_int().values)[1:]\n",
    "            if variant == df_analysis.variant.unique()[0]:\n",
    "                output['param'] = reg.params.index[1:].str.replace('loc_comorb_releveled\\[T.',' ').str.replace('\\]','')\n",
    "            output['odds_ratio_'+variant] = np.exp(reg.params.values)[1:]\n",
    "            conf = np.exp(reg.conf_int())[1:]\n",
    "            conf.columns = ['CI_low','CI_high']\n",
    "            output['CI_low_'+variant] = conf.CI_low.values\n",
    "            output['CI_high_'+variant] = conf.CI_high.values\n",
    "            output['p_values_'+variant] = reg.pvalues.values[1:]\n",
    "            del variant_data\n",
    "        df_regression = df_regression.append(output,ignore_index=True)\n",
    "    df_regression.to_csv(outcome+'_comorbidities_by_variant_reg.csv',index=False)"
   ]
  },
  {
   "cell_type": "code",
   "execution_count": 18,
   "metadata": {},
   "outputs": [
    {
     "name": "stdout",
     "output_type": "stream",
     "text": [
      "Delta  --  BA.1.X  --  BA.2.X  --  BA.4/5.X  --  Delta  --  BA.1.X  --  BA.2.X  --  BA.4/5.X  --  "
     ]
    }
   ],
   "source": [
    "for outcome in outcomes:\n",
    "    df_regression = pd.DataFrame()\n",
    "    for variant in df_analysis.variant.unique():        \n",
    "        print(variant,end='  --  ')\n",
    "        variant_data = df_analysis[df_analysis.variant==variant].copy()\n",
    "        variant_data = variant_data.reset_index(drop=True)\n",
    "        reg = smf.logit(outcome+' ~ '+model,data=variant_data).fit(disp=0,method='ncg')\n",
    "        conf = np.exp(reg.conf_int().values)[1:]\n",
    "        if variant == df_analysis.variant.unique()[0]:\n",
    "            df_regression['param'] = reg.params.index[1:].str.replace('_releveled\\[T.',' ').str.replace('\\]','')\n",
    "        df_regression['odds_ratio_'+variant] = np.exp(reg.params.values)[1:]\n",
    "        conf = np.exp(reg.conf_int())[1:]\n",
    "        conf.columns = ['CI_low','CI_high']\n",
    "        df_regression['CI_low_'+variant] = conf.CI_low.values\n",
    "        df_regression['CI_high_'+variant] = conf.CI_high.values\n",
    "        df_regression['p_values_'+variant] = reg.pvalues.values[1:]\n",
    "        del variant_data\n",
    "    df_regression.to_csv(outcome+'_comorbidities_dependent_by_variant_reg.csv',index=False)"
   ]
  },
  {
   "cell_type": "markdown",
   "metadata": {},
   "source": [
    "### Univariate logistic regression with variant combination: primary outcome"
   ]
  },
  {
   "cell_type": "code",
   "execution_count": 19,
   "metadata": {},
   "outputs": [],
   "source": [
    "variant_combination = [['Delta','BA.1.X'],['BA.1.X','BA.2.X'],['BA.2.X','BA.4/5.X']]"
   ]
  },
  {
   "cell_type": "code",
   "execution_count": 20,
   "metadata": {},
   "outputs": [],
   "source": [
    "df_regression = pd.DataFrame()\n",
    "for two_variants in variant_combination:\n",
    "    output = pd.DataFrame()\n",
    "    variant_data = df_analysis[(df_analysis.variant==two_variants[0]) | (df_analysis.variant==two_variants[1])].copy()\n",
    "    variant_data = variant_data.reset_index(drop=True)\n",
    "    variant_data['variant_releveled']  = pd.Series(pd.Categorical(variant_data.variant,categories=two_variants))\n",
    "    reg = smf.logit('outcome ~ variant_releveled',data=variant_data).fit(disp=0,method='ncg')\n",
    "    output['param'] = [two_variants[1]+' - Ref: '+two_variants[0]]\n",
    "    output['odds_ratio'] = np.exp(reg.params.values)[1:]\n",
    "    conf = np.exp(reg.conf_int())[1:]\n",
    "    conf.columns = ['CI_low','CI_high']\n",
    "    output['CI_low'] = conf.CI_low.values\n",
    "    output['CI_high'] = conf.CI_high.values\n",
    "    output['p_values'] = reg.pvalues.values[1:]\n",
    "    del variant_data\n",
    "    df_regression = df_regression.append(output,ignore_index=True)\n",
    "df_regression.to_csv('variant_combination_reg.csv',index=False)"
   ]
  },
  {
   "cell_type": "markdown",
   "metadata": {},
   "source": [
    "### Univariate logistic regression with variant combination: secondary outcome"
   ]
  },
  {
   "cell_type": "code",
   "execution_count": 21,
   "metadata": {},
   "outputs": [],
   "source": [
    "outcomes = ['ventilation_invasive','icu_adm']\n",
    "variant_combination = [['Delta','BA.1.X'],['BA.1.X','BA.2.X'],['BA.2.X','BA.4/5.X']]"
   ]
  },
  {
   "cell_type": "code",
   "execution_count": 22,
   "metadata": {},
   "outputs": [],
   "source": [
    "for outcome in outcomes:\n",
    "    df_regression = pd.DataFrame()\n",
    "    for two_variants in variant_combination:\n",
    "        output = pd.DataFrame()\n",
    "        variant_data = df_analysis[(df_analysis.variant==two_variants[0]) | (df_analysis.variant==two_variants[1])].copy()\n",
    "        variant_data = variant_data.reset_index(drop=True)\n",
    "        variant_data['variant_releveled']  = pd.Series(pd.Categorical(variant_data.variant,categories=two_variants))\n",
    "        reg = smf.logit(outcome+' ~ variant_releveled',data=variant_data).fit(disp=0,method='ncg')\n",
    "        output['param'] = [two_variants[1]+' - Ref: '+two_variants[0]]\n",
    "        output['odds_ratio'] = np.exp(reg.params.values)[1:]\n",
    "        conf = np.exp(reg.conf_int())[1:]\n",
    "        conf.columns = ['CI_low','CI_high']\n",
    "        output['CI_low'] = conf.CI_low.values\n",
    "        output['CI_high'] = conf.CI_high.values\n",
    "        output['p_values'] = reg.pvalues.values[1:]\n",
    "        del variant_data\n",
    "        df_regression = df_regression.append(output,ignore_index=True)\n",
    "    df_regression.to_csv(outcome+'_variant_combination_reg.csv',index=False)"
   ]
  },
  {
   "cell_type": "code",
   "execution_count": null,
   "metadata": {},
   "outputs": [],
   "source": []
  }
 ],
 "metadata": {
  "kernelspec": {
   "display_name": "Python 3",
   "language": "python",
   "name": "python3"
  },
  "language_info": {
   "codemirror_mode": {
    "name": "ipython",
    "version": 3
   },
   "file_extension": ".py",
   "mimetype": "text/x-python",
   "name": "python",
   "nbconvert_exporter": "python",
   "pygments_lexer": "ipython3",
   "version": "3.8.5"
  }
 },
 "nbformat": 4,
 "nbformat_minor": 5
}
