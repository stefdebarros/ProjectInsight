{
 "cells": [
  {
   "cell_type": "markdown",
   "metadata": {},
   "source": [
    "# Blight Violation Problem"
   ]
  },
  {
   "cell_type": "raw",
   "metadata": {},
   "source": [
    "This is a piece of code created for an online assignement.\n",
    "I am skipping some details on purpose since I do not want to make available a complete answer.\n",
    "\n",
    "Blight violations are issued by **a city** to individuals who allow their properties to remain in a deteriorated condition. Every year, **a city** issue millions of dollars in fines to residents and every year, many of these fines remain unpaid. Enforcing unpaid blight fines is a costly and tedious process: how can we increase blight ticket compliance?\n",
    "\n",
    "The aim here is to train a model to predict the probability for a blight ticket to be paid.\n",
    "The evaluation metric for this assignment is the Area Under the ROC Curve (AUC), with AUROC > 0.7."
   ]
  },
  {
   "cell_type": "raw",
   "metadata": {},
   "source": [
    "You will *NOT* be able to run this piece of code since I do not share the training/test data."
   ]
  },
  {
   "cell_type": "markdown",
   "metadata": {},
   "source": [
    "## Exploring data"
   ]
  },
  {
   "cell_type": "code",
   "execution_count": 1,
   "metadata": {},
   "outputs": [],
   "source": [
    "import pandas as pd\n",
    "import numpy as np"
   ]
  },
  {
   "cell_type": "code",
   "execution_count": 119,
   "metadata": {},
   "outputs": [],
   "source": [
    "#Reading training data/test data + addresses and latitude/longitude files allowing\n",
    "#to replace blight violation adresses with map coordinates\n",
    "train_df = pd.read_csv('readonly/train.csv',engine='python')\n",
    "test_df = pd.read_csv('readonly/test.csv',engine='python')\n",
    "addresses_df = pd.read_csv('readonly/addresses.csv',engine='python')\n",
    "latlons_df = pd.read_csv('readonly/latlons.csv',engine='python')"
   ]
  },
  {
   "cell_type": "markdown",
   "metadata": {},
   "source": [
    "The aim in the following is to identify and select useful data to optimize training"
   ]
  },
  {
   "cell_type": "code",
   "execution_count": 109,
   "metadata": {},
   "outputs": [
    {
     "name": "stdout",
     "output_type": "stream",
     "text": [
      "<class 'pandas.core.frame.DataFrame'>\n",
      "RangeIndex: 250306 entries, 0 to 250305\n",
      "Data columns (total 34 columns):\n",
      " #   Column                      Non-Null Count   Dtype  \n",
      "---  ------                      --------------   -----  \n",
      " 0   ticket_id                   250306 non-null  int64  \n",
      " 1   agency_name                 250306 non-null  object \n",
      " 2   inspector_name              250306 non-null  object \n",
      " 3   violator_name               250272 non-null  object \n",
      " 4   violation_street_number     250306 non-null  float64\n",
      " 5   violation_street_name       250306 non-null  object \n",
      " 6   violation_zip_code          0 non-null       float64\n",
      " 7   mailing_address_str_number  246704 non-null  float64\n",
      " 8   mailing_address_str_name    250302 non-null  object \n",
      " 9   city                        250306 non-null  object \n",
      " 10  state                       250213 non-null  object \n",
      " 11  zip_code                    250305 non-null  object \n",
      " 12  non_us_str_code             3 non-null       object \n",
      " 13  country                     250306 non-null  object \n",
      " 14  ticket_issued_date          250306 non-null  object \n",
      " 15  hearing_date                237815 non-null  object \n",
      " 16  violation_code              250306 non-null  object \n",
      " 17  violation_description       250306 non-null  object \n",
      " 18  disposition                 250306 non-null  object \n",
      " 19  fine_amount                 250305 non-null  float64\n",
      " 20  admin_fee                   250306 non-null  float64\n",
      " 21  state_fee                   250306 non-null  float64\n",
      " 22  late_fee                    250306 non-null  float64\n",
      " 23  discount_amount             250306 non-null  float64\n",
      " 24  clean_up_cost               250306 non-null  float64\n",
      " 25  judgment_amount             250306 non-null  float64\n",
      " 26  payment_amount              250306 non-null  float64\n",
      " 27  balance_due                 250306 non-null  float64\n",
      " 28  payment_date                41113 non-null   object \n",
      " 29  payment_status              250306 non-null  object \n",
      " 30  collection_status           36897 non-null   object \n",
      " 31  grafitti_status             1 non-null       object \n",
      " 32  compliance_detail           250306 non-null  object \n",
      " 33  compliance                  159880 non-null  float64\n",
      "dtypes: float64(13), int64(1), object(20)\n",
      "memory usage: 64.9+ MB\n"
     ]
    }
   ],
   "source": [
    "train_df.info()"
   ]
  },
  {
   "cell_type": "code",
   "execution_count": 110,
   "metadata": {},
   "outputs": [
    {
     "name": "stdout",
     "output_type": "stream",
     "text": [
      "<class 'pandas.core.frame.DataFrame'>\n",
      "RangeIndex: 61001 entries, 0 to 61000\n",
      "Data columns (total 27 columns):\n",
      " #   Column                      Non-Null Count  Dtype  \n",
      "---  ------                      --------------  -----  \n",
      " 0   ticket_id                   61001 non-null  int64  \n",
      " 1   agency_name                 61001 non-null  object \n",
      " 2   inspector_name              61001 non-null  object \n",
      " 3   violator_name               60973 non-null  object \n",
      " 4   violation_street_number     61001 non-null  float64\n",
      " 5   violation_street_name       61001 non-null  object \n",
      " 6   violation_zip_code          24024 non-null  object \n",
      " 7   mailing_address_str_number  59987 non-null  object \n",
      " 8   mailing_address_str_name    60998 non-null  object \n",
      " 9   city                        61000 non-null  object \n",
      " 10  state                       60670 non-null  object \n",
      " 11  zip_code                    60998 non-null  object \n",
      " 12  non_us_str_code             0 non-null      float64\n",
      " 13  country                     61001 non-null  object \n",
      " 14  ticket_issued_date          61001 non-null  object \n",
      " 15  hearing_date                58804 non-null  object \n",
      " 16  violation_code              61001 non-null  object \n",
      " 17  violation_description       61001 non-null  object \n",
      " 18  disposition                 61001 non-null  object \n",
      " 19  fine_amount                 61001 non-null  float64\n",
      " 20  admin_fee                   61001 non-null  float64\n",
      " 21  state_fee                   61001 non-null  float64\n",
      " 22  late_fee                    61001 non-null  float64\n",
      " 23  discount_amount             61001 non-null  float64\n",
      " 24  clean_up_cost               61001 non-null  float64\n",
      " 25  judgment_amount             61001 non-null  float64\n",
      " 26  grafitti_status             2221 non-null   object \n",
      "dtypes: float64(9), int64(1), object(17)\n",
      "memory usage: 12.6+ MB\n"
     ]
    }
   ],
   "source": [
    "test_df.info()"
   ]
  },
  {
   "cell_type": "markdown",
   "metadata": {},
   "source": [
    "Some features are available only in the training data and not in the test data (they will be dropped): payment_amount, payment_date, payment_status, balance_due, compliance_detail\n",
    "\n",
    "compliance is the target. For this assignment only defined value will be considered (drop of Nan).\n",
    "\n",
    "For the feature choice, memory limitations must be accounted for."
   ]
  },
  {
   "cell_type": "code",
   "execution_count": 178,
   "metadata": {},
   "outputs": [],
   "source": [
    "train_to_use = train_df.drop(columns=['collection_status','payment_amount','payment_date','payment_status','balance_due','compliance_detail'])\n",
    "#We consider only tickets for which we know if the payment has been made or not\n",
    "train_to_use = train_to_use[np.isfinite(train_to_use['compliance'])]"
   ]
  },
  {
   "cell_type": "code",
   "execution_count": 179,
   "metadata": {},
   "outputs": [],
   "source": [
    "#Replace violation_street_number+violation_street_name with latitude and longitude (drop zip code)\n",
    "train_to_use = pd.merge(train_to_use, pd.merge(addresses_df, latlons_df), on='ticket_id')\n",
    "test_to_use = pd.merge(test_df, pd.merge(addresses_df, latlons_df, on='address'), on='ticket_id')\n",
    "train_to_use = train_to_use.drop(columns=['address','violation_street_number','violation_street_name',\n",
    "                                          'violation_zip_code'])\n",
    "test_to_use = test_to_use.drop(columns=['address','violation_street_number','violation_street_name','violation_zip_code'])"
   ]
  },
  {
   "cell_type": "code",
   "execution_count": 180,
   "metadata": {},
   "outputs": [],
   "source": [
    "#ticket_issue_date and hearing_date: change type to_datetime\n",
    "train_to_use['ticket_issued_date'] = pd.to_datetime(train_to_use['ticket_issued_date'])\n",
    "train_to_use['hearing_date'] = pd.to_datetime(train_to_use['hearing_date'])\n",
    "#Create new feature: delta_date => number of days between ticket and hearing\n",
    "train_to_use['delta_date'] = pd.to_numeric((train_to_use['hearing_date'].dt.date-train_to_use['ticket_issued_date'].dt.date).dt.days,downcast='integer')\n",
    "train_to_use['delta_date'] = train_to_use['delta_date'].fillna(0)\n",
    "#Drop very small fraction where delta_date < 0 (hearing_date before ticket_issue_date)\n",
    "train_to_use = train_to_use[train_to_use['delta_date']>=0]\n",
    "train_to_use['ticket_issued_month'] = train_to_use['ticket_issued_date'].dt.month\n",
    "train_to_use['ticket_issued_day'] = train_to_use['ticket_issued_date'].dt.day\n",
    "train_to_use['ticket_issued_time'] = train_to_use['ticket_issued_date'].dt.hour*3600+train_to_use['ticket_issued_date'].dt.minute*60+train_to_use['ticket_issued_date'].dt.second\n",
    "train_to_use['hearing_month'] = train_to_use['hearing_date'].dt.month\n",
    "train_to_use['hearing_day'] = train_to_use['hearing_date'].dt.day\n",
    "train_to_use['hearing_time'] = train_to_use['hearing_date'].dt.hour*3600+train_to_use['hearing_date'].dt.minute*60+train_to_use['hearing_date'].dt.second\n",
    "train_to_use['hearing_date'] = train_to_use['hearing_date'].fillna(0)\n",
    "train_to_use['hearing_month'] = train_to_use['hearing_month'].fillna(0)\n",
    "train_to_use['hearing_day'] = train_to_use['hearing_day'].fillna(0)\n",
    "train_to_use['hearing_time'] = train_to_use['hearing_time'].fillna(0)\n",
    "\n",
    "#Same for test set\n",
    "test_to_use['ticket_issued_date'] = pd.to_datetime(test_to_use['ticket_issued_date'])\n",
    "test_to_use['hearing_date'] = pd.to_datetime(test_to_use['hearing_date'])\n",
    "#Create new feature: delta_date => number of days between ticket and hearing\n",
    "test_to_use['delta_date'] = pd.to_numeric((test_to_use['hearing_date'].dt.date-test_to_use['ticket_issued_date'].dt.date).dt.days,downcast='integer')\n",
    "test_to_use['delta_date'] = test_to_use['delta_date'].fillna(0)\n",
    "#Drop very small fraction where delta_date < 0 (hearing_date before ticket_issue_date)\n",
    "test_to_use = test_to_use[test_to_use['delta_date']>=0]\n",
    "test_to_use['ticket_issued_month'] = test_to_use['ticket_issued_date'].dt.month\n",
    "test_to_use['ticket_issued_day'] = test_to_use['ticket_issued_date'].dt.day\n",
    "test_to_use['ticket_issued_time'] = test_to_use['ticket_issued_date'].dt.hour*3600+test_to_use['ticket_issued_date'].dt.minute*60+test_to_use['ticket_issued_date'].dt.second\n",
    "test_to_use['hearing_month'] = test_to_use['hearing_date'].dt.month\n",
    "test_to_use['hearing_day'] = test_to_use['hearing_date'].dt.day\n",
    "test_to_use['hearing_time'] = test_to_use['hearing_date'].dt.hour*3600+test_to_use['hearing_date'].dt.minute*60+test_to_use['hearing_date'].dt.second\n",
    "test_to_use['hearing_date'] = test_to_use['hearing_date'].fillna(0)\n",
    "test_to_use['hearing_month'] = test_to_use['hearing_month'].fillna(0)\n",
    "test_to_use['hearing_day'] = test_to_use['hearing_day'].fillna(0)\n",
    "test_to_use['hearing_time'] = test_to_use['hearing_time'].fillna(0)"
   ]
  },
  {
   "cell_type": "markdown",
   "metadata": {},
   "source": [
    "Target unbalanced: in more than 9 cases over 10, tickets result in non-compliance"
   ]
  },
  {
   "cell_type": "code",
   "execution_count": null,
   "metadata": {},
   "outputs": [],
   "source": [
    "#Explore features to possibly identify important/less important features\n",
    "for col in train_to_use.columns:\n",
    "    print(col)\n",
    "    print(train_to_use[col].unique())\n",
    "    print(len(train_to_use[col].unique()))"
   ]
  },
  {
   "cell_type": "code",
   "execution_count": 7,
   "metadata": {},
   "outputs": [],
   "source": [
    "#Compute violation fraction, non compliant fraction, and compliant fraction along some axis\n",
    "def fraction_of_interest(parameter_name):\n",
    "    violation_fraction = np.zeros(len(train_to_use[parameter_name].unique()),np.float)\n",
    "    non_compliant_fraction = np.zeros(len(train_to_use[parameter_name].unique()),np.float)\n",
    "    for index, param in enumerate(train_to_use[parameter_name].unique()):\n",
    "        if type(param) == str:\n",
    "            violation_fraction[index] = len(train_to_use[train_to_use[parameter_name]==param])/len(train_to_use)*100.\n",
    "            non_compliant_fraction[index] = len(train_to_use[(train_to_use[parameter_name]==param) & (train_to_use['compliance']==0)])/len(train_to_use[train_to_use[parameter_name]==param])*100.\n",
    "    compliant_fraction = 100.-non_compliant_fraction\n",
    "    return violation_fraction, non_compliant_fraction, compliant_fraction"
   ]
  },
  {
   "cell_type": "code",
   "execution_count": 8,
   "metadata": {},
   "outputs": [],
   "source": [
    "%matplotlib notebook\n",
    "import matplotlib.pylab as plt"
   ]
  },
  {
   "cell_type": "code",
   "execution_count": 9,
   "metadata": {},
   "outputs": [],
   "source": [
    "#Plot two histograms: total violation fraction distribution (left) and fraction of compliance/non compliance\n",
    "#for each feature (right)\n",
    "def figure_fraction(parameter_name):\n",
    "    fig, axs = plt.subplots(1, 2, sharey='row',\n",
    "                        gridspec_kw={'hspace': 0, 'wspace': 0.02})\n",
    "    (ax1, ax2) = axs\n",
    "    param_name = train_to_use[parameter_name].unique()\n",
    "    y_pos = np.arange(len(param_name))\n",
    "    violation_fraction = np.zeros(len(param_name),np.float)\n",
    "    non_compliant_fraction = np.zeros(len(param_name),np.float)\n",
    "    for index, param in enumerate(param_name):\n",
    "        if type(param) == str:\n",
    "            violation_fraction[index] = len(train_to_use[train_to_use[parameter_name]==param])/len(train_to_use)*100.\n",
    "            non_compliant_fraction[index] = len(train_to_use[(train_to_use[parameter_name]==param) & (train_to_use['compliance']==0)])/len(train_to_use[train_to_use[parameter_name]==param])*100.\n",
    "            param_name[index] = param.replace(' ','\\n')\n",
    "    compliant_fraction = 100.-non_compliant_fraction\n",
    "    ax1.barh(y_pos, violation_fraction, align='center')\n",
    "    ax1.set_yticks(y_pos)\n",
    "    ax1.set_yticklabels(param_name,size=5)\n",
    "    ax1.set_xlabel('Total violation fraction (%)')\n",
    "    h = 0.3\n",
    "    hist1 = ax2.barh(y_pos-h/2, non_compliant_fraction, height=h, color='r')\n",
    "    hist2 = ax2.barh(y_pos+h/2, compliant_fraction, height=h, color='b')\n",
    "    fig.legend((hist1,hist2),('Non compliant','compliant'))\n",
    "    ax2.set_xlabel('Fraction per '+parameter_name+' (%)')\n",
    "    fig.suptitle(parameter_name)\n",
    "    for ax in fig.get_axes():\n",
    "        ax.label_outer()"
   ]
  },
  {
   "cell_type": "code",
   "execution_count": null,
   "metadata": {},
   "outputs": [],
   "source": [
    "#Too large: violator_name, mailing_address_str_number, mailing_address_str_name, city, zip_code, \n",
    "#Insignificant: non_us_str_code, country"
   ]
  },
  {
   "cell_type": "markdown",
   "metadata": {},
   "source": [
    "### Example: agency_name"
   ]
  },
  {
   "cell_type": "code",
   "execution_count": 19,
   "metadata": {},
   "outputs": [],
   "source": [
    "violation_fraction, non_compliant_fraction, compliant_fraction = fraction_of_interest('agency_name')"
   ]
  },
  {
   "cell_type": "code",
   "execution_count": 46,
   "metadata": {},
   "outputs": [
    {
     "data": {
      "image/png": "[encoded data removed]",
      "text/plain": [
       "<Figure size 432x288 with 2 Axes>"
      ]
     },
     "metadata": {
      "needs_background": "light"
     },
     "output_type": "display_data"
    }
   ],
   "source": [
    "figure_fraction('agency_name')"
   ]
  },
  {
   "cell_type": "markdown",
   "metadata": {},
   "source": [
    "### Another one: disposition"
   ]
  },
  {
   "cell_type": "code",
   "execution_count": 57,
   "metadata": {},
   "outputs": [],
   "source": [
    "violation_fraction, non_compliant_fraction, compliant_fraction = fraction_of_interest('disposition')"
   ]
  },
  {
   "cell_type": "code",
   "execution_count": 59,
   "metadata": {
    "scrolled": true
   },
   "outputs": [
    {
     "data": {
      "image/png": "[encoded data removed]",
      "text/plain": [
       "<Figure size 432x288 with 2 Axes>"
      ]
     },
     "metadata": {
      "needs_background": "light"
     },
     "output_type": "display_data"
    }
   ],
   "source": [
    "figure_fraction('disposition')"
   ]
  },
  {
   "cell_type": "raw",
   "metadata": {},
   "source": [
    "Some parameters need to be handled in a smart way to be useful...\n",
    "I do not provide some steps on purpose."
   ]
  },
  {
   "cell_type": "markdown",
   "metadata": {},
   "source": [
    "## ML algorithm "
   ]
  },
  {
   "cell_type": "markdown",
   "metadata": {},
   "source": [
    "### prepare train/test set "
   ]
  },
  {
   "cell_type": "code",
   "execution_count": 181,
   "metadata": {},
   "outputs": [],
   "source": [
    "train_to_use = train_to_use.drop(columns=['ticket_id','violator_name','ticket_issued_date','hearing_date',\n",
    "                                          'violation_description','admin_fee','state_fee','late_fee',\n",
    "                                          'clean_up_cost','mailing_address_str_number',\n",
    "                                          'mailing_address_str_name','city','zip_code','non_us_str_code','country',\n",
    "                                          'grafitti_status'])\n",
    "test_to_use = test_to_use.drop(columns=['ticket_id','violator_name','ticket_issued_date','hearing_date',\n",
    "                                        'violation_description','admin_fee','state_fee','late_fee',\n",
    "                                        'clean_up_cost','mailing_address_str_number',\n",
    "                                        'mailing_address_str_name','city','zip_code','non_us_str_code','country',\n",
    "                                        'grafitti_status'])\n",
    "train_to_use['state'] = train_to_use['state'].fillna(method='pad')\n",
    "test_to_use['state'] = test_to_use['state'].fillna(method='pad')"
   ]
  },
  {
   "cell_type": "code",
   "execution_count": 182,
   "metadata": {},
   "outputs": [],
   "source": [
    "#Before encoding disposition, rename properly since in some cases this feature provides direct hints about the outcome\n",
    "train_to_use['disposition'] = train_to_use['disposition'].replace('Responsible (Fine Waived) by Deter','Responsible by Determination')\n",
    "test_to_use['disposition'] = test_to_use['disposition'].replace('Responsible (Fine Waived) by Deter','Responsible by Determination')\n",
    "test_to_use['disposition'] = test_to_use['disposition'].replace('Responsible (Fine Waived) by Admis','Responsible by Admission')\n",
    "test_to_use['disposition'] = test_to_use['disposition'].replace('Responsible - Compl/Adj by Default','Responsible by Default')\n",
    "test_to_use['disposition'] = test_to_use['disposition'].replace('Responsible - Compl/Adj by Determi','Responsible by Determination')"
   ]
  },
  {
   "cell_type": "code",
   "execution_count": 183,
   "metadata": {
    "scrolled": true
   },
   "outputs": [],
   "source": [
    "##Encode categorical data: encode only values found in both train/test set, ignore others (useless)\n",
    "feature_list_to_encode = ['***'] #I do not want to provide a complete answer to this test\n",
    "for param in feature_list_to_encode:\n",
    "    CategoriesToKeep = np.intersect1d(test_to_use[param].unique(),train_to_use[param].unique()).tolist()\n",
    "    train_to_use[param] = pd.Categorical(train_to_use[param],categories=CategoriesToKeep)\n",
    "    train_to_use[param] = train_to_use[param].cat.add_categories('<'+param+'_unknown>').fillna('<'+param+'_unknown>')\n",
    "    dummy_train = pd.get_dummies(train_to_use[param])\n",
    "    train_to_use = train_to_use.join(dummy_train)\n",
    "    train_to_use = train_to_use.drop(columns=param)\n",
    "    test_to_use[param] = pd.Categorical(test_to_use[param],categories=CategoriesToKeep)\n",
    "    test_to_use[param] = test_to_use[param].cat.add_categories('<'+param+'_unknown>').fillna('<'+param+'_unknown>')\n",
    "    dummy_test = pd.get_dummies(test_to_use[param])\n",
    "    dummy_test = dummy_test.reindex(columns = dummy_train.columns,fill_value=0)\n",
    "    test_to_use = test_to_use.join(dummy_test)\n",
    "    test_to_use = test_to_use.drop(columns=param)"
   ]
  },
  {
   "cell_type": "code",
   "execution_count": 192,
   "metadata": {},
   "outputs": [],
   "source": [
    "train_to_use['lat'] = train_to_use['lat'].fillna(method='pad')\n",
    "train_to_use['lon'] = train_to_use['lon'].fillna(method='pad')\n",
    "test_to_use['lat'] = test_to_use['lat'].fillna(method='pad')\n",
    "test_to_use['lon'] = test_to_use['lon'].fillna(method='pad')"
   ]
  },
  {
   "cell_type": "markdown",
   "metadata": {},
   "source": [
    "### ML"
   ]
  },
  {
   "cell_type": "code",
   "execution_count": 187,
   "metadata": {},
   "outputs": [],
   "source": [
    "from sklearn.naive_bayes import GaussianNB\n",
    "from sklearn.linear_model import LogisticRegression\n",
    "from sklearn.ensemble import RandomForestClassifier, AdaBoostClassifier\n",
    "from sklearn.metrics import roc_curve, auc\n",
    "from sklearn.preprocessing import MinMaxScaler\n",
    "from sklearn.model_selection import StratifiedKFold"
   ]
  },
  {
   "cell_type": "code",
   "execution_count": null,
   "metadata": {},
   "outputs": [],
   "source": [
    "#Train different methods to pick the best one\n",
    "\n",
    "cv = StratifiedKFold(n_splits=25)\n",
    "scaler  = MinMaxScaler()\n",
    "clfs = [LogisticRegression(),GaussianNB(),RandomForestClassifier(),\n",
    "        AdaBoostClassifier()]\n",
    "X = train_to_use.drop(\"compliance\",1)\n",
    "y = train_to_use.compliance\n",
    "\n",
    "for clf in clfs:\n",
    "    print(clf)\n",
    "    for train, test in cv.split(X,y):\n",
    "        X_train = scaler.fit_transform(X.iloc[train])\n",
    "        X_test = scaler.transform(X.iloc[test])\n",
    "        clf.fit(X_train,y.iloc[train])\n",
    "        if hasattr(clf, \"predict_proba\"):\n",
    "            prob_pos = clf.predict_proba(X_test)[:, 1]\n",
    "        else:  # use decision function\n",
    "            prob_pos = clf.decision_function(X_test)\n",
    "            prob_pos = (prob_pos - prob_pos.min()) / (prob_pos.max() - prob_pos.min())\n",
    "        fpr, tpr, _ = roc_curve(y.iloc[test], prob_pos)\n",
    "        auc_score = auc(fpr,tpr)\n",
    "        print(auc_score)"
   ]
  },
  {
   "cell_type": "raw",
   "metadata": {},
   "source": [
    "Once the best method has been picked (some parameters require adjusment), apply to the test set.\n",
    "I got an AUC of 0.77"
   ]
  }
 ],
 "metadata": {
  "coursera": {
   "course_slug": "python-machine-learning",
   "graded_item_id": "nNS8l",
   "launcher_item_id": "yWWk7",
   "part_id": "w8BSS"
  },
  "kernelspec": {
   "display_name": "Python 3",
   "language": "python",
   "name": "python3"
  },
  "language_info": {
   "codemirror_mode": {
    "name": "ipython",
    "version": 3
   },
   "file_extension": ".py",
   "mimetype": "text/x-python",
   "name": "python",
   "nbconvert_exporter": "python",
   "pygments_lexer": "ipython3",
   "version": "3.8.3"
  }
 },
 "nbformat": 4,
 "nbformat_minor": 2
}
