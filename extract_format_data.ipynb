{
 "cells": [
  {
   "cell_type": "markdown",
   "metadata": {},
   "source": [
    "# COVID19 severe (hospitalized) cases in Brazil\n",
    "\n",
    "\n",
    "## Aim and data\n",
    "\n",
    "Publicly available data for COVID19 cases hospitalized in Brazil is used to perform a retrospective cross-sectional observational study.\n",
    "It means that we want to infer the paramaters driving the outcome (death/survival) from data gathered from hospitals in Brazil for different COVID19 variants.\n",
    "\n",
    "> **Data source**: all the data has been taken from the Brazilian Ministry of Health https://opendatasus.saude.gov.br/organization/ministerio-da-saude\n",
    ">\n",
    ">It requires translation from Portuguese to English\n",
    "\n",
    "## Time period and variants\n",
    "\n",
    "We sort cases with PCR/Antigenic positive test by time period when more than 80% of the sequence submitted to the GISAID database matched a given variant.\n",
    "\n",
    "| Variant | Time period |\n",
    "|-|-|\n",
    "| Delta | October 12th 2021 to December 19th 2021 |\n",
    "| BA.1.X | January 1st 2022 to March 20th 2022 |\n",
    "| BA.2.X | April 11th 2022 to May 29th 2022 |\n",
    "| BA.4/5.X | July 18th 2022 to October 2nd 2022 |\n"
   ]
  },
  {
   "cell_type": "markdown",
   "metadata": {},
   "source": [
    "## Python module used in this notebook"
   ]
  },
  {
   "cell_type": "code",
   "execution_count": 1,
   "metadata": {},
   "outputs": [],
   "source": [
    "import pandas as pd\n",
    "import scipy.stats as scst\n",
    "import sys\n",
    "import numpy as np\n",
    "import matplotlib.pyplot as plt\n",
    "import os"
   ]
  },
  {
   "cell_type": "markdown",
   "metadata": {},
   "source": [
    "## Parameters"
   ]
  },
  {
   "cell_type": "code",
   "execution_count": 4,
   "metadata": {},
   "outputs": [],
   "source": [
    "data_path_severe = #your_path#\n",
    "\n",
    "#Data extracted from the source are csv file for each year since the outbreak\n",
    "#With these parameters, the code is generalized as much as possible if ran after\n",
    "#the notebook to extract raw data\n",
    "allfiles = os.listdir(data_path_severe)\n",
    "allfiles_severe = [x for x in allfiles if \"severe\" in x]\n",
    "\n",
    "#exclude year 2020 from analysis\n",
    "files_severe = allfiles_severe[1:len(allfiles_severe)]"
   ]
  },
  {
   "cell_type": "markdown",
   "metadata": {},
   "source": [
    "## Pick only useful data and create new files"
   ]
  },
  {
   "cell_type": "code",
   "execution_count": 36,
   "metadata": {},
   "outputs": [
    {
     "name": "stdout",
     "output_type": "stream",
     "text": [
      "Data for variant Delta extracted\n",
      "Data for variant BA.1.X extracted\n",
      "Data for variant BA.2.X extracted\n",
      "Data for variant BA.4/5.X extracted\n"
     ]
    }
   ],
   "source": [
    "for variant in variants_name:\n",
    "    print('Data for variant '+variant+' extracted')\n",
    "    #Variant Delta was in 2021, while Omicron in 2022\n",
    "    if variant == 'Delta':\n",
    "        file = files_severe[0]\n",
    "    else:\n",
    "        file = files_severe[1]\n",
    "    data = pd.read_csv(data_path_severe+file,usecols=['DT_SIN_PRI','CLASSI_FIN','PCR_SARS2','AN_SARS2','CS_SEXO','VACINA_COV',\n",
    "                                                          'NU_IDADE_N','TP_IDADE','DOSE_1_COV','DOSE_2_COV','DOSE_REF',\n",
    "                                                          'FATOR_RISC','CARDIOPATI','HEMATOLOGI','SIND_DOWN','HEPATICA','ASMA',\n",
    "                                                          'DIABETES','NEUROLOGIC','PNEUMOPATI','IMUNODEPRE','RENAL','OBESIDADE',\n",
    "                                                          'OBES_IMC','OUT_MORBI','SUPORT_VEN','UTI','DT_ENTUTI','DT_SAIDUTI',\n",
    "                                                          'DT_INTERNA','EVOLUCAO','DT_EVOLUCA','CS_GESTANT',\n",
    "                                                          'CS_RACA','PAC_COCBO','PUERPERA','SG_UF_NOT','ID_MUNICIP',\n",
    "                                                      'CO_MUN_NOT','ID_REGIONA','CO_REGIONA','ID_UNIDADE','CO_UNI_NOT'])\n",
    "    #the symptom file has been generated with another script (that will be put in this folder in the near future)\n",
    "    symptoms = pd.read_parquet(data_path_severe+file.replace('severe_case','all_symptom').replace('csv','pq'))\n",
    "    data = data.join(symptoms)\n",
    "    data['dates_selection'] = pd.to_datetime(data.DT_SIN_PRI,dayfirst=True,errors='coerce')\n",
    "    date_min = variants_period[variants_name.index(variant)][0]\n",
    "    date_max = variants_period[variants_name.index(variant)][1]\n",
    "    data = data[(data.dates_selection>=date_min) & (data.dates_selection<=date_max)]\n",
    "    data = data[(data.CLASSI_FIN==5) | (data.CLASSI_FIN.isnull() & data.PCR_SARS2==1) | (data.CLASSI_FIN.isnull() & data.AN_SARS2==1)]\n",
    "    data = data.drop(columns=['dates_selection'])\n",
    "    data.to_parquet(file_name[variants_name.index(variant)]+'_severe_CRF_data.pq')"
   ]
  },
  {
   "cell_type": "code",
   "execution_count": null,
   "metadata": {},
   "outputs": [],
   "source": []
  }
 ],
 "metadata": {
  "kernelspec": {
   "display_name": "Python 3",
   "language": "python",
   "name": "python3"
  },
  "language_info": {
   "codemirror_mode": {
    "name": "ipython",
    "version": 3
   },
   "file_extension": ".py",
   "mimetype": "text/x-python",
   "name": "python",
   "nbconvert_exporter": "python",
   "pygments_lexer": "ipython3",
   "version": "3.8.5"
  }
 },
 "nbformat": 4,
 "nbformat_minor": 4
}
